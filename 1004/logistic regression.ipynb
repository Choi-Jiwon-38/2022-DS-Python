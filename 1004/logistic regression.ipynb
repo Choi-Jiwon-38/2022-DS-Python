{
 "cells": [
  {
   "cell_type": "code",
   "execution_count": 106,
   "metadata": {},
   "outputs": [],
   "source": [
    "# 학습 데이터 생성\n",
    "\n",
    "import torch\n",
    "\n",
    "x_train = torch.FloatTensor([[1],[2],[3],[4],[5],[2.5],[3.5],[0],[3.1],[2.7],[2.8],[2.9]])\n",
    "y_train = torch.FloatTensor([[1],[1],[1],[0],[0],[0],[0],[1],[0],[1],[1],[1]])"
   ]
  },
  {
   "cell_type": "code",
   "execution_count": 107,
   "metadata": {},
   "outputs": [
    {
     "data": {
      "image/png": "[encoded data removed]",
      "text/plain": [
       "<Figure size 640x480 with 1 Axes>"
      ]
     },
     "metadata": {},
     "output_type": "display_data"
    }
   ],
   "source": [
    "import matplotlib.pyplot as plt\n",
    "\n",
    "plt.scatter(x_train, y_train)\n",
    "plt.show()"
   ]
  },
  {
   "cell_type": "code",
   "execution_count": null,
   "metadata": {},
   "outputs": [],
   "source": []
  },
  {
   "cell_type": "code",
   "execution_count": 108,
   "metadata": {},
   "outputs": [
    {
     "name": "stdout",
     "output_type": "stream",
     "text": [
      "tensor([[0.6743]])\n",
      "tensor([1.4787])\n",
      "-0.7554157376289368 1.1109293699264526 1.6847258806228638\n",
      "-1.5163540840148926 4.606955051422119 0.4162251055240631\n",
      "-1.9353169202804565 5.88577938079834 0.3974713981151581\n",
      "-2.1992299556732178 6.684780597686768 0.3902571499347687\n",
      "-2.385467290878296 7.2462005615234375 0.38671207427978516\n",
      "-2.524400472640991 7.663904666900635 0.384753942489624\n",
      "-2.6315221786499023 7.985383033752441 0.38359537720680237\n",
      "-2.715930700302124 8.238368034362793 0.38287845253944397\n",
      "-2.7834632396698 8.44057559967041 0.3824208080768585\n",
      "-2.8381004333496094 8.604049682617188 0.3821216821670532\n",
      "-2.8826794624328613 8.73735237121582 0.38192275166511536\n"
     ]
    }
   ],
   "source": [
    "# 가설을 세우기 위한 W, b 초기화\n",
    "\n",
    "w = torch.randn((1, 1))\n",
    "b = torch.randn(1)\n",
    "\n",
    "lr = 1.0\n",
    "\n",
    "print(w)\n",
    "print(b)\n",
    "\n",
    "for epoch in range(1001):\n",
    "    w.requires_grad_(True) # w에 대하여 기울기 계산을 할 것을 의미\n",
    "    b.requires_grad_(True) # b에 대하여 기울기 계산을 할 것을 의미\n",
    "\n",
    "    h = torch.sigmoid(torch.mm(x_train, w) + b)\n",
    "    cost = torch.mean(-y_train * torch.log(h) - (1 - y_train) * torch.log(1 - h))\n",
    "\n",
    "    cost.backward() # 기울기 계산 \n",
    "\n",
    "    with torch.no_grad():\n",
    "        w = w - lr * w.grad\n",
    "        b = b - lr * b.grad\n",
    "\n",
    "        if epoch % 100 == 0:\n",
    "            print(w.item(), b.item(), cost.item())\n"
   ]
  },
  {
   "cell_type": "code",
   "execution_count": 109,
   "metadata": {},
   "outputs": [
    {
     "name": "stdout",
     "output_type": "stream",
     "text": [
      "tensor(0.3819)\n"
     ]
    }
   ],
   "source": [
    "# BCE 구하기 (바이너리 크로스 엔트로피 - 코스트)\n",
    "# C = - y * log(h) - (1-y) * log(1 - h)\n",
    "# cost = mean(C)\n",
    "\n",
    "h = torch.sigmoid(torch.mm(x_train, w) + b)\n",
    "C = -y_train * torch.log(h) - (1 - y_train) * torch.log(1 - h)\n",
    "cost = torch.mean(C)\n",
    "\n",
    "print(cost)"
   ]
  },
  {
   "cell_type": "code",
   "execution_count": 110,
   "metadata": {},
   "outputs": [
    {
     "name": "stdout",
     "output_type": "stream",
     "text": [
      "tensor([[0.],\n",
      "        [1.],\n",
      "        [0.]])\n"
     ]
    }
   ],
   "source": [
    "with torch.no_grad():\n",
    "    x_test = torch.tensor([[4.5], [1.1], [10.2]])\n",
    "    y_test = torch.sigmoid(torch.mm(x_test, w) + b)\n",
    "\n",
    "    # y_test[y_test > 0.5] = 1\n",
    "    # y_test[y_test <= 0.5] = 0\n",
    "\n",
    "    # print(y_test)\n",
    "\n",
    "    print(torch.round(y_test))"
   ]
  },
  {
   "cell_type": "code",
   "execution_count": 111,
   "metadata": {},
   "outputs": [
    {
     "name": "stdout",
     "output_type": "stream",
     "text": [
      "tensor([[0.0000],\n",
      "        [0.0505],\n",
      "        [0.1010],\n",
      "        [0.1515],\n",
      "        [0.2020],\n",
      "        [0.2525],\n",
      "        [0.3030],\n",
      "        [0.3535],\n",
      "        [0.4040],\n",
      "        [0.4545],\n",
      "        [0.5051],\n",
      "        [0.5556],\n",
      "        [0.6061],\n",
      "        [0.6566],\n",
      "        [0.7071],\n",
      "        [0.7576],\n",
      "        [0.8081],\n",
      "        [0.8586],\n",
      "        [0.9091],\n",
      "        [0.9596],\n",
      "        [1.0101],\n",
      "        [1.0606],\n",
      "        [1.1111],\n",
      "        [1.1616],\n",
      "        [1.2121],\n",
      "        [1.2626],\n",
      "        [1.3131],\n",
      "        [1.3636],\n",
      "        [1.4141],\n",
      "        [1.4646],\n",
      "        [1.5152],\n",
      "        [1.5657],\n",
      "        [1.6162],\n",
      "        [1.6667],\n",
      "        [1.7172],\n",
      "        [1.7677],\n",
      "        [1.8182],\n",
      "        [1.8687],\n",
      "        [1.9192],\n",
      "        [1.9697],\n",
      "        [2.0202],\n",
      "        [2.0707],\n",
      "        [2.1212],\n",
      "        [2.1717],\n",
      "        [2.2222],\n",
      "        [2.2727],\n",
      "        [2.3232],\n",
      "        [2.3737],\n",
      "        [2.4242],\n",
      "        [2.4747],\n",
      "        [2.5253],\n",
      "        [2.5758],\n",
      "        [2.6263],\n",
      "        [2.6768],\n",
      "        [2.7273],\n",
      "        [2.7778],\n",
      "        [2.8283],\n",
      "        [2.8788],\n",
      "        [2.9293],\n",
      "        [2.9798],\n",
      "        [3.0303],\n",
      "        [3.0808],\n",
      "        [3.1313],\n",
      "        [3.1818],\n",
      "        [3.2323],\n",
      "        [3.2828],\n",
      "        [3.3333],\n",
      "        [3.3838],\n",
      "        [3.4343],\n",
      "        [3.4848],\n",
      "        [3.5354],\n",
      "        [3.5859],\n",
      "        [3.6364],\n",
      "        [3.6869],\n",
      "        [3.7374],\n",
      "        [3.7879],\n",
      "        [3.8384],\n",
      "        [3.8889],\n",
      "        [3.9394],\n",
      "        [3.9899],\n",
      "        [4.0404],\n",
      "        [4.0909],\n",
      "        [4.1414],\n",
      "        [4.1919],\n",
      "        [4.2424],\n",
      "        [4.2929],\n",
      "        [4.3434],\n",
      "        [4.3939],\n",
      "        [4.4444],\n",
      "        [4.4949],\n",
      "        [4.5455],\n",
      "        [4.5960],\n",
      "        [4.6465],\n",
      "        [4.6970],\n",
      "        [4.7475],\n",
      "        [4.7980],\n",
      "        [4.8485],\n",
      "        [4.8990],\n",
      "        [4.9495],\n",
      "        [5.0000]])\n"
     ]
    },
    {
     "data": {
      "image/png": "[encoded data removed]",
      "text/plain": [
       "<Figure size 640x480 with 1 Axes>"
      ]
     },
     "metadata": {},
     "output_type": "display_data"
    }
   ],
   "source": [
    "# x_tmp = torch.linspace(0, 5, 100)\n",
    "# x_tmp = torch.linspace(0, 5, 100).view(len(x_tmp), 1)\n",
    "x_tmp = torch.linspace(0, 5, 100).unsqueeze(1)\n",
    "y_tmp = torch.sigmoid(torch.mm(x_tmp, w) + b)\n",
    "\n",
    "print(x_tmp)\n",
    "\n",
    "plt.plot(x_tmp, y_tmp)\n",
    "plt.scatter(x_train, y_train)\n",
    "plt.show()"
   ]
  },
  {
   "cell_type": "code",
   "execution_count": 112,
   "metadata": {},
   "outputs": [
    {
     "name": "stdout",
     "output_type": "stream",
     "text": [
      "-0.3751455545425415 -0.1726825088262558 1.707605242729187\n",
      "-1.4442462921142578 4.385268688201904 0.42067453265190125\n",
      "-1.8945173025131226 5.761849880218506 0.3988581597805023\n",
      "-2.1716954708099365 6.601617336273193 0.39088109135627747\n",
      "-2.365421772003174 7.185857772827148 0.38704049587249756\n",
      "-2.5091795921325684 7.618185997009277 0.3849424421787262\n",
      "-2.619652509689331 7.949785232543945 0.38370975852012634\n",
      "-2.7065036296844482 8.210127830505371 0.38295039534568787\n",
      "-2.7758772373199463 8.417869567871094 0.3824671804904938\n",
      "-2.8319358825683594 8.585610389709473 0.38215234875679016\n",
      "-2.8776345252990723 8.722270965576172 0.3819434344768524\n"
     ]
    }
   ],
   "source": [
    "# 기존 optimizer를 가져와서 사용해보기\n",
    "\n",
    "# 가설을 세우기 위한 W, b 초기화\n",
    "\n",
    "w = torch.randn((1, 1), requires_grad = True)\n",
    "b = torch.randn(1, requires_grad = True)\n",
    "\n",
    "optim = torch.optim.SGD([w, b], lr = 1.0) # 메모리는 그대로 참조하고 w, b의 내부 값만 변경하는 특징을 가짐\n",
    "\n",
    "for epoch in range(1001):\n",
    "    h = torch.sigmoid(torch.mm(x_train, w) + b)\n",
    "    cost = torch.mean(-y_train * torch.log(h) - (1 - y_train) * torch.log(1 - h))\n",
    "\n",
    "    # with torch.no_grad():\n",
    "    #     w.grad = torch.FloatTensor([[0]])\n",
    "    #     b.grad = torch.FloatTensor([[0]])\n",
    "\n",
    "    optim.zero_grad() # 기울기값 초기화 <- 초기화를 안하면 epoch 반복을 할떄 기존 누적된 값이 사용됨\n",
    "\n",
    "    cost.backward() # 기울기 계산 \n",
    "    optim.step() # 파라미터 업데이트 (w, b)\n",
    "\n",
    "    if epoch % 100 == 0:\n",
    "        print(w.item(), b.item(), cost.item())\n",
    "\n",
    "\n"
   ]
  },
  {
   "cell_type": "code",
   "execution_count": 114,
   "metadata": {},
   "outputs": [
    {
     "name": "stdout",
     "output_type": "stream",
     "text": [
      "[[-3.10385806]] [9.39776831]\n",
      "[0 1]\n"
     ]
    }
   ],
   "source": [
    "# sklearn을 이용한 logistic regression\n",
    "\n",
    "from sklearn.linear_model import LogisticRegression\n",
    "\n",
    "x_train = [[1],[2],[3],[4],[5],[2.5],[3.5],[0],[3.1],[2.7],[2.8],[2.9]]\n",
    "y_train = [1, 1, 1, 0, 0, 0, 0, 1, 0, 1, 1, 1]\n",
    "\n",
    "model = LogisticRegression(penalty = 'none')\n",
    "model.fit(x_train, y_train)\n",
    "\n",
    "# model.coef_ <- w에 해당하는 값\n",
    "# model.intercept_ <- b에 해당하는 값\n",
    "print(model.coef_, model.intercept_)\n",
    "\n",
    "x_test = [[4.5], [1.1]]\n",
    "y_test = model.predict(x_test)\n",
    "\n",
    "print(y_test)"
   ]
  }
 ],
 "metadata": {
  "interpreter": {
   "hash": "aee8b7b246df8f9039afb4144a1f6fd8d2ca17a180786b69acc140d282b71a49"
  },
  "kernelspec": {
   "display_name": "Python 3.10.2 64-bit",
   "language": "python",
   "name": "python3"
  },
  "language_info": {
   "codemirror_mode": {
    "name": "ipython",
    "version": 3
   },
   "file_extension": ".py",
   "mimetype": "text/x-python",
   "name": "python",
   "nbconvert_exporter": "python",
   "pygments_lexer": "ipython3",
   "version": "3.10.2"
  },
  "orig_nbformat": 4
 },
 "nbformat": 4,
 "nbformat_minor": 2
}
