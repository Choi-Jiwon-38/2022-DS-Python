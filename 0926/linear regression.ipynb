{
 "cells": [
  {
   "cell_type": "code",
   "execution_count": 24,
   "metadata": {},
   "outputs": [
    {
     "name": "stdout",
     "output_type": "stream",
     "text": [
      "x = tensor([[1, 2, 3],\n",
      "        [4, 5, 6],\n",
      "        [7, 8, 9]])\n",
      "y = tensor([[1., 2., 3.],\n",
      "        [4., 5., 6.],\n",
      "        [7., 8., 9.]])\n",
      "<class 'torch.Tensor'> <class 'torch.Tensor'>\n"
     ]
    }
   ],
   "source": [
    "import torch\n",
    "\n",
    "# 텐서 만들기\n",
    "\n",
    "x = torch.tensor([[1, 2, 3], [4, 5, 6], [7, 8, 9]])\n",
    "y = torch.FloatTensor([[1, 2, 3], [4, 5, 6], [7, 8, 9]])\n",
    "\n",
    "print(\"x =\", x)\n",
    "print(\"y =\", y)\n",
    "print(type(x), type(y))"
   ]
  },
  {
   "cell_type": "code",
   "execution_count": 25,
   "metadata": {},
   "outputs": [
    {
     "name": "stdout",
     "output_type": "stream",
     "text": [
      "torch.Size([3, 3])\n",
      "torch.Size([3, 3])\n",
      "2\n",
      "2\n",
      "2\n"
     ]
    }
   ],
   "source": [
    "# 크기와 랭크(차원) 확인하기\n",
    "\n",
    "print(x.shape)\n",
    "print(x.size()) # shape와 동일한 기능을 수행\n",
    "\n",
    "print(x.ndim)   # Tensor가 몇 차원인지 알고 싶을 때\n",
    "print(x.ndimension())   # 위와 동일\n",
    "print(len(x.shape))     # 위와 동일"
   ]
  },
  {
   "cell_type": "code",
   "execution_count": 26,
   "metadata": {},
   "outputs": [
    {
     "name": "stdout",
     "output_type": "stream",
     "text": [
      "tensor([[1, 2, 3],\n",
      "        [4, 5, 6],\n",
      "        [7, 8, 9]])\n",
      "torch.Size([3, 3])\n",
      "tensor([[[1, 2, 3],\n",
      "         [4, 5, 6],\n",
      "         [7, 8, 9]]])\n",
      "tensor([[[1, 2, 3]],\n",
      "\n",
      "        [[4, 5, 6]],\n",
      "\n",
      "        [[7, 8, 9]]])\n",
      "tensor([[[1],\n",
      "         [2],\n",
      "         [3]],\n",
      "\n",
      "        [[4],\n",
      "         [5],\n",
      "         [6]],\n",
      "\n",
      "        [[7],\n",
      "         [8],\n",
      "         [9]]])\n",
      "torch.Size([1, 3, 3])\n",
      "torch.Size([3, 1, 3])\n",
      "torch.Size([3, 3, 1])\n",
      "tensor([[1, 2, 3],\n",
      "        [4, 5, 6],\n",
      "        [7, 8, 9]])\n"
     ]
    }
   ],
   "source": [
    "# 텐서 모양 바꾸기\n",
    "\n",
    "# unsqueeze(x, i): 텐서 x에 i번째 차원 추가 \n",
    "# vector -> matrix / matrix -> 3차원 tensor 가능\n",
    "\n",
    "print(x)\n",
    "print(x.shape)\n",
    "\n",
    "x0 = torch.unsqueeze(x, 0)\n",
    "x1 = torch.unsqueeze(x, 1)\n",
    "x2 = torch.unsqueeze(x, 2)\n",
    "\n",
    "print(x0)\n",
    "print(x1)\n",
    "print(x2)\n",
    "\n",
    "print(x0.shape)\n",
    "print(x1.shape)\n",
    "print(x2.shape)\n",
    "\n",
    "# squeeze(x): 텐서 x에서 크기가 1인 차원 제거 \n",
    "print(torch.squeeze(x1))"
   ]
  },
  {
   "cell_type": "code",
   "execution_count": 27,
   "metadata": {},
   "outputs": [
    {
     "name": "stdout",
     "output_type": "stream",
     "text": [
      "tensor([[1, 2, 3],\n",
      "        [4, 5, 6],\n",
      "        [7, 8, 9]])\n",
      "tensor([1, 2, 3, 4, 5, 6, 7, 8, 9])\n"
     ]
    }
   ],
   "source": [
    "# x.view([shape]): x를 [shape]의 모양으로 변환\n",
    "# shape을 정의하는 것에 따라 squeeze와 unsqueeze 기능을 모두 사용 가능\n",
    "\n",
    "print(x)\n",
    "print(x.view(9))"
   ]
  },
  {
   "cell_type": "code",
   "execution_count": 36,
   "metadata": {},
   "outputs": [
    {
     "name": "stdout",
     "output_type": "stream",
     "text": [
      "tensor([[ 0.6395],\n",
      "        [-1.0623]])\n"
     ]
    }
   ],
   "source": [
    "# 행렬 연산\n",
    "\n",
    "x = torch.tensor([[1, 2], [3, 4], [5, 6]], dtype = torch.float)\n",
    "\n",
    "w = torch.randn(2, 1, dtype = torch.float)\n",
    "b = torch.randn(1, dtype = torch.float)\n",
    "\n",
    "h = torch.mm(x, w) + b\n",
    "\n",
    "print(w)"
   ]
  },
  {
   "cell_type": "code",
   "execution_count": 37,
   "metadata": {},
   "outputs": [
    {
     "name": "stdout",
     "output_type": "stream",
     "text": [
      "l을 w로 미분한 값은 tensor(18.)\n"
     ]
    }
   ],
   "source": [
    "# Autograd: 기울기 계산\n",
    "\n",
    "w = torch.tensor(1.0, requires_grad = True)\n",
    "a = w * 3\n",
    "l = a ** 2\n",
    "l.backward()\n",
    "\n",
    "print('l을 w로 미분한 값은', w.grad)"
   ]
  },
  {
   "cell_type": "code",
   "execution_count": null,
   "metadata": {},
   "outputs": [],
   "source": [
    "# Linear Regression\n",
    "\n",
    "x_train = torch.FloatTensor([[1, 2], [3, 2], [3, 7], [1, 1], [1, 0]])\n",
    "y_train = torch.tensor([[4], [8], [23], [1], [-2]])\n",
    "\n",
    "W = torch.randn(2, 1)\n",
    "b = torch.randn(1)\n",
    "\n",
    "lr = 0.01\n",
    "\n",
    "for epoch in range(1000):\n",
    "    w.requires_grad_(True)\n",
    "    b.requires_grad_(True)\n",
    "\n",
    "    h = torch.mm(x_train, w) + b\n",
    "    cost = torch.mean((h - y_train) ** 2)\n",
    "\n",
    "    cost.backward()\n",
    "    \n",
    "    with torch.no_grad(): # 기울기 계산을 하지 않고 결과만을 사용함\n",
    "        w = w - lr * w.grad\n",
    "        b = b - lr * b.grad"
   ]
  },
  {
   "cell_type": "code",
   "execution_count": 38,
   "metadata": {},
   "outputs": [
    {
     "name": "stdout",
     "output_type": "stream",
     "text": [
      "[[36.]]\n"
     ]
    }
   ],
   "source": [
    "# sklearn을 이용한 Linear Regression\n",
    "\n",
    "from sklearn.linear_model import LinearRegression\n",
    "\n",
    "x = [[1, 2], [3, 2], [3, 7], [1, 1], [1, 0]]\n",
    "y = [[4], [8], [23], [1], [-2]]\n",
    "\n",
    "model = LinearRegression()\n",
    "model.fit(x, y)\n",
    "\n",
    "model.coef_ # w\n",
    "model.intercept_ # b\n",
    "\n",
    "x_test = [[5, 10]]\n",
    "y_test = model.predict(x_test)\n",
    "print(y_test)\n"
   ]
  }
 ],
 "metadata": {
  "interpreter": {
   "hash": "aee8b7b246df8f9039afb4144a1f6fd8d2ca17a180786b69acc140d282b71a49"
  },
  "kernelspec": {
   "display_name": "Python 3.10.2 64-bit",
   "language": "python",
   "name": "python3"
  },
  "language_info": {
   "codemirror_mode": {
    "name": "ipython",
    "version": 3
   },
   "file_extension": ".py",
   "mimetype": "text/x-python",
   "name": "python",
   "nbconvert_exporter": "python",
   "pygments_lexer": "ipython3",
   "version": "3.10.2"
  },
  "orig_nbformat": 4
 },
 "nbformat": 4,
 "nbformat_minor": 2
}
