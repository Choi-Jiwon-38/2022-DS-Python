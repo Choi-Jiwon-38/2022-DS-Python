{
 "cells": [
  {
   "cell_type": "code",
   "execution_count": null,
   "metadata": {},
   "outputs": [],
   "source": [
    "import numpy as np\n",
    "from sklearn.linear_model import LogisticRegression\n",
    "\n",
    "x_train = np.array([ [1,2,1,1], [2,1,3,2], [3,1,3,4], [4,1,5,5], [1,7,5,5], [1,2,5,6], [1,6,6,6], [1,7,7,7] ])\n",
    "\n",
    "# y에 0, 1, 2 등 둘 이상의 class가 존재 => softmax regression\n",
    "y_train = np.array([ 2, 2, 2, 1, 1, 1, 0, 0 ])\n",
    "\n",
    "logistic = LogisticRegression() # 모델 생성\n",
    "logistic.fit(x_train, y_train) # 학습\n",
    "\n",
    "pred = logistic.predict([[1,11,10,9], [1,3,4,3], [1,1,0,1]]) # test case (값 예측)\n",
    "print(pred) # 출력"
   ]
  }
 ],
 "metadata": {
  "language_info": {
   "name": "python"
  },
  "orig_nbformat": 4
 },
 "nbformat": 4,
 "nbformat_minor": 2
}
