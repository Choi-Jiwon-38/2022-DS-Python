{
 "cells": [
  {
   "cell_type": "code",
   "execution_count": 5,
   "metadata": {},
   "outputs": [],
   "source": [
    "import torch\n",
    "\n",
    "x_train = torch.FloatTensor([[1, 2, 1, 1], [2, 1, 3, 2], [3, 1, 3, 4], [4, 1, 5, 5], [1, 7, 5, 5], [1, 2, 5, 6], [1, 6, 6, 6], [1, 7, 7, 7]])\n",
    "y_train = torch.tensor([[0, 0, 1], [0, 0, 1], [0, 0, 1], [0, 1, 0], [0, 1, 0], [0, 1, 0], [1, 0, 0], [1, 0, 0]], dtype = torch.float)"
   ]
  },
  {
   "cell_type": "code",
   "execution_count": 6,
   "metadata": {},
   "outputs": [
    {
     "name": "stdout",
     "output_type": "stream",
     "text": [
      "0 11.484834671020508\n",
      "300 0.1950107216835022\n",
      "600 0.09271655231714249\n",
      "900 0.05343551188707352\n",
      "1200 0.03439098596572876\n",
      "1500 0.023762227967381477\n",
      "1800 0.017241451889276505\n",
      "2100 0.012958846054971218\n",
      "2400 0.009999244473874569\n",
      "2700 0.007872100919485092\n",
      "3000 0.006295457482337952\n"
     ]
    }
   ],
   "source": [
    "w = torch.randn(4, 3, requires_grad = True) # 입력 차원 X 클래스 개수\n",
    "b = torch.randn(1, 3, requires_grad = True) # 1 X 클래스 개수 <- b를 각 클래스마다 더해주어야 하기 때문\n",
    "\n",
    "optim = torch.optim.Adam([w, b], lr = 0.1)\n",
    "\n",
    "for epoch in range(3001):\n",
    "    # h = torch.softmax(torch.mm(x_train, w) + b, dim = 1) # dim <- 각 벡터마다 적용할 것이다\n",
    "    h = (torch.mm(x_train, w) + b).softmax(dim = 1)\n",
    "\n",
    "    # cost = -torch.mean((torch.sum(y_train * torch.log(h), dim = 1))) # 크로스 엔트로피\n",
    "    cost = -(y_train * torch.log(h)).sum(dim = 1).mean()\n",
    "\n",
    "    optim.zero_grad() # 누적된 값을 다시 0으로 초기화\n",
    "    cost.backward()\n",
    "    optim.step()\n",
    "\n",
    "    with torch.no_grad():\n",
    "        if epoch % 300 == 0:\n",
    "            print(epoch, cost.item())"
   ]
  },
  {
   "cell_type": "code",
   "execution_count": 8,
   "metadata": {},
   "outputs": [
    {
     "name": "stdout",
     "output_type": "stream",
     "text": [
      "tensor([[1.0000e+00, 7.9009e-16, 6.9863e-33],\n",
      "        [1.4110e-02, 7.9077e-01, 1.9512e-01],\n",
      "        [1.2716e-28, 1.8155e-10, 1.0000e+00]], grad_fn=<SoftmaxBackward0>)\n",
      "tensor([0, 1, 2])\n"
     ]
    }
   ],
   "source": [
    "x_test = torch.FloatTensor([[1, 11, 10, 9], [1, 3, 4, 3], [1, 1, 0, 1]])\n",
    "test_all = torch.softmax(torch.mm(x_test, w) + b, dim = 1)\n",
    "print(test_all)\n",
    "print(torch.argmax(test_all, dim = 1))"
   ]
  }
 ],
 "metadata": {
  "interpreter": {
   "hash": "aee8b7b246df8f9039afb4144a1f6fd8d2ca17a180786b69acc140d282b71a49"
  },
  "kernelspec": {
   "display_name": "Python 3.10.2 64-bit",
   "language": "python",
   "name": "python3"
  },
  "language_info": {
   "codemirror_mode": {
    "name": "ipython",
    "version": 3
   },
   "file_extension": ".py",
   "mimetype": "text/x-python",
   "name": "python",
   "nbconvert_exporter": "python",
   "pygments_lexer": "ipython3",
   "version": "3.10.2"
  },
  "orig_nbformat": 4
 },
 "nbformat": 4,
 "nbformat_minor": 2
}
