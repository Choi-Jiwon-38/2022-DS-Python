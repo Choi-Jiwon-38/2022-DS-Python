{
 "cells": [
  {
   "cell_type": "code",
   "execution_count": 3,
   "metadata": {},
   "outputs": [],
   "source": [
    "import torch\n",
    "import torch.nn.functional as F\n",
    "\n",
    "x_train = torch.FloatTensor([[1, 2, 1, 1], [2, 1, 3, 2], [3, 1, 3, 4], [4, 1, 5, 5], [1, 7, 5, 5], [1, 2, 5, 6], [1, 6, 6, 6], [1, 7, 7, 7]])\n",
    "y_train = torch.LongTensor([2, 2, 2, 1, 1, 1, 0, 0]) # one-hot 인코딩의 형태 X"
   ]
  },
  {
   "cell_type": "code",
   "execution_count": 4,
   "metadata": {},
   "outputs": [
    {
     "name": "stdout",
     "output_type": "stream",
     "text": [
      "0 1.3846914768218994\n",
      "300 0.12078173458576202\n",
      "600 0.051131121814250946\n",
      "900 0.028162650763988495\n",
      "1200 0.017756938934326172\n",
      "1500 0.012149113230407238\n",
      "1800 0.008772426284849644\n",
      "2100 0.006577585823833942\n",
      "2400 0.005069610197097063\n",
      "2700 0.003989368677139282\n",
      "3000 0.0031901532784104347\n"
     ]
    }
   ],
   "source": [
    "model = torch.nn.Linear(4, 3)\n",
    "\n",
    "optim = torch.optim.Adam(model.parameters(), lr = 0.1)\n",
    "\n",
    "for epoch in range(3001):\n",
    "\n",
    "    h = model(x_train)\n",
    "    cost = F.cross_entropy(h, y_train)\n",
    "\n",
    "    optim.zero_grad() # 누적된 값을 다시 0으로 초기화\n",
    "    cost.backward()\n",
    "    optim.step()\n",
    "\n",
    "    with torch.no_grad():\n",
    "        if epoch % 300 == 0:\n",
    "            print(epoch, cost.item())"
   ]
  }
 ],
 "metadata": {
  "interpreter": {
   "hash": "aee8b7b246df8f9039afb4144a1f6fd8d2ca17a180786b69acc140d282b71a49"
  },
  "kernelspec": {
   "display_name": "Python 3.10.2 64-bit",
   "language": "python",
   "name": "python3"
  },
  "language_info": {
   "codemirror_mode": {
    "name": "ipython",
    "version": 3
   },
   "file_extension": ".py",
   "mimetype": "text/x-python",
   "name": "python",
   "nbconvert_exporter": "python",
   "pygments_lexer": "ipython3",
   "version": "3.10.2"
  },
  "orig_nbformat": 4
 },
 "nbformat": 4,
 "nbformat_minor": 2
}
