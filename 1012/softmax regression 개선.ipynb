{
 "cells": [
  {
   "cell_type": "code",
   "execution_count": 21,
   "metadata": {},
   "outputs": [],
   "source": [
    "import torch\n",
    "import torch.nn.functional as F\n",
    "\n",
    "x_train = torch.FloatTensor([[1, 2, 1, 1], [2, 1, 3, 2], [3, 1, 3, 4], [4, 1, 5, 5], [1, 7, 5, 5], [1, 2, 5, 6], [1, 6, 6, 6], [1, 7, 7, 7]])\n",
    "y_train = torch.LongTensor([2, 2, 2, 1, 1, 1, 0, 0]) # one-hot 인코딩의 형태 X"
   ]
  },
  {
   "cell_type": "code",
   "execution_count": 22,
   "metadata": {},
   "outputs": [
    {
     "name": "stdout",
     "output_type": "stream",
     "text": [
      "0 0.9690295457839966\n",
      "300 0.09325700998306274\n",
      "600 0.03687820956110954\n",
      "900 0.01978418044745922\n",
      "1200 0.012333260849118233\n",
      "1500 0.008392127230763435\n",
      "1800 0.006042260676622391\n",
      "2100 0.004523241892457008\n",
      "2400 0.003483049338683486\n",
      "2700 0.002739433664828539\n",
      "3000 0.0021899710409343243\n"
     ]
    }
   ],
   "source": [
    "model = torch.nn.Linear(4, 3)\n",
    "\n",
    "optim = torch.optim.Adam(model.parameters(), lr = 0.1)\n",
    "\n",
    "for epoch in range(3001):\n",
    "\n",
    "    h = model(x_train)\n",
    "    cost = F.cross_entropy(h, y_train)\n",
    "\n",
    "    optim.zero_grad() # 누적된 값을 다시 0으로 초기화\n",
    "    cost.backward()\n",
    "    optim.step()\n",
    "\n",
    "    with torch.no_grad():\n",
    "        if epoch % 300 == 0:\n",
    "            print(epoch, cost.item())"
   ]
  },
  {
   "cell_type": "code",
   "execution_count": 23,
   "metadata": {},
   "outputs": [
    {
     "name": "stdout",
     "output_type": "stream",
     "text": [
      "tensor([0, 1, 2])\n"
     ]
    }
   ],
   "source": [
    "x_test = torch.FloatTensor([[1, 11, 10, 9], [1, 3, 4, 3], [1, 1, 0, 1]])\n",
    "test_all = model(x_test)\n",
    "print(torch.argmax(test_all, dim = 1))"
   ]
  }
 ],
 "metadata": {
  "interpreter": {
   "hash": "aee8b7b246df8f9039afb4144a1f6fd8d2ca17a180786b69acc140d282b71a49"
  },
  "kernelspec": {
   "display_name": "Python 3.10.2 64-bit",
   "language": "python",
   "name": "python3"
  },
  "language_info": {
   "codemirror_mode": {
    "name": "ipython",
    "version": 3
   },
   "file_extension": ".py",
   "mimetype": "text/x-python",
   "name": "python",
   "nbconvert_exporter": "python",
   "pygments_lexer": "ipython3",
   "version": "3.10.2"
  },
  "orig_nbformat": 4
 },
 "nbformat": 4,
 "nbformat_minor": 2
}
